{
 "cells": [
  {
   "cell_type": "code",
   "execution_count": 1,
   "id": "2fff728c",
   "metadata": {},
   "outputs": [],
   "source": [
    "from bs4 import BeautifulSoup"
   ]
  },
  {
   "cell_type": "code",
   "execution_count": 3,
   "id": "initial_id",
   "metadata": {
    "collapsed": true,
    "is_executing": true
   },
   "outputs": [
    {
     "data": {
      "text/plain": [
       "'<html>\\n <head>\\n  <title>\\n   My first web page\\n  </title>\\n </head>\\n <body>\\n  <h1>\\n   My first web page\\n  </h1>\\n  <h2>\\n   What this is tutorial\\n  </h2>\\n  <p>\\n   A simple page put together using HTML.\\n   <em>\\n    I said a simple page.\\n   </em>\\n   .\\n  </p>\\n  <ul>\\n   <li>\\n    To learn HTML\\n   </li>\\n   <li>\\n    To show off\\n    <ol>\\n     <li>\\n      To my boss\\n     </li>\\n     <li>\\n      To my friends\\n     </li>\\n     <li>\\n      To my cat\\n     </li>\\n     <li>\\n      To the little talking duck in my brain\\n     </li>\\n    </ol>\\n   </li>\\n   <li>\\n    Because I have fallen in love with my computer and want to give her some HTML loving.\\n   </li>\\n  </ul>\\n  <h3>\\n   Where to find the tutorial\\n  </h3>\\n  <p>\\n   <a href=\"http://www.aaa.com\">\\n    <img src=\"http://www.aaa.com/badge1.gif\"/>\\n   </a>\\n  </p>\\n  <h4>\\n   Some random table\\n  </h4>\\n  <table>\\n   <tr class=\"tutorial1\">\\n    <td>\\n     Row 1, cell 1\\n    </td>\\n    <td>\\n     Row 1, cell 2\\n     <img src=\"http://www.bbb.com/badge2.gif\"/>\\n    </td>\\n    <td>\\n     Row 1, cell 3\\n    </td>\\n   </tr>\\n   <tr class=\"tutorial2\">\\n    <td>\\n     Row 2, cell 1\\n    </td>\\n    <td>\\n     Row 2, cell 2\\n    </td>\\n    <td>\\n     Row 2, cell 3\\n     <img src=\"http://www.ccc.com/badge3.gif\"/>\\n    </td>\\n   </tr>\\n  </table>\\n </body>\\n</html>\\n'"
      ]
     },
     "execution_count": 3,
     "metadata": {},
     "output_type": "execute_result"
    }
   ],
   "source": [
    "with open('q2.html') as f:\n",
    "    doc = BeautifulSoup(f, 'html.parser')\n",
    "doc.prettify()"
   ]
  },
  {
   "cell_type": "code",
   "execution_count": 55,
   "id": "ca8e7c773933e71f",
   "metadata": {
    "collapsed": false
   },
   "outputs": [
    {
     "data": {
      "text/plain": [
       "'My first web page'"
      ]
     },
     "execution_count": 55,
     "metadata": {},
     "output_type": "execute_result"
    }
   ],
   "source": [
    "doc.title.get_text()"
   ]
  },
  {
   "cell_type": "code",
   "execution_count": 10,
   "id": "6e00750a",
   "metadata": {},
   "outputs": [
    {
     "data": {
      "text/plain": [
       "'To my friends'"
      ]
     },
     "execution_count": 10,
     "metadata": {},
     "output_type": "execute_result"
    }
   ],
   "source": [
    "doc.body.ul.ol.find_all('li')[1].string"
   ]
  },
  {
   "cell_type": "code",
   "execution_count": 31,
   "id": "58b56a86",
   "metadata": {},
   "outputs": [
    {
     "data": {
      "text/plain": [
       "[<td>Row 1, cell 1</td>,\n",
       " <td>Row 1, cell 2<img src=\"http://www.bbb.com/badge2.gif\"/></td>,\n",
       " <img src=\"http://www.bbb.com/badge2.gif\"/>,\n",
       " <td>Row 1, cell 3</td>]"
      ]
     },
     "execution_count": 31,
     "metadata": {},
     "output_type": "execute_result"
    }
   ],
   "source": [
    "doc.table.tr.find_all()"
   ]
  },
  {
   "cell_type": "code",
   "execution_count": 15,
   "id": "26d01f67",
   "metadata": {},
   "outputs": [],
   "source": [
    "import re"
   ]
  },
  {
   "cell_type": "code",
   "execution_count": 24,
   "id": "945769b3",
   "metadata": {},
   "outputs": [
    {
     "data": {
      "text/plain": [
       "['What this is tutorial']"
      ]
     },
     "execution_count": 24,
     "metadata": {},
     "output_type": "execute_result"
    }
   ],
   "source": [
    "[t.string for t in doc.body.find_all([\"h2\", re.compile(\"tutorial\")])]"
   ]
  },
  {
   "cell_type": "code",
   "execution_count": 27,
   "id": "638855f6",
   "metadata": {},
   "outputs": [
    {
     "data": {
      "text/plain": [
       "'\\nMy first web page\\nWhat this is tutorial\\nA simple page put together using HTML. I said a simple page..\\n\\nTo learn HTML\\n\\n To show off\\n \\nTo my boss\\nTo my friends\\nTo my cat\\nTo the little talking duck in my brain\\n\\n\\nBecause I have fallen in love with my computer and want to give her some HTML loving.\\n\\nWhere to find the tutorial\\n\\nSome random table\\n\\n\\nRow 1, cell 1\\nRow 1, cell 2\\nRow 1, cell 3\\n\\n\\nRow 2, cell 1\\nRow 2, cell 2\\nRow 2, cell 3\\n\\n\\n'"
      ]
     },
     "execution_count": 27,
     "metadata": {},
     "output_type": "execute_result"
    }
   ],
   "source": [
    "doc.body.get_text()"
   ]
  },
  {
   "cell_type": "code",
   "execution_count": 26,
   "id": "65fed9d2",
   "metadata": {},
   "outputs": [
    {
     "ename": "TypeError",
     "evalue": "expected string or bytes-like object, got 'list'",
     "output_type": "error",
     "traceback": [
      "\u001B[0;31m---------------------------------------------------------------------------\u001B[0m",
      "\u001B[0;31mTypeError\u001B[0m                                 Traceback (most recent call last)",
      "Cell \u001B[0;32mIn[26], line 1\u001B[0m\n\u001B[0;32m----> 1\u001B[0m \u001B[43mre\u001B[49m\u001B[38;5;241;43m.\u001B[39;49m\u001B[43mcompile\u001B[49m\u001B[43m(\u001B[49m\u001B[38;5;124;43m'\u001B[39;49m\u001B[38;5;124;43mhtml\u001B[39;49m\u001B[38;5;124;43m'\u001B[39;49m\u001B[43m)\u001B[49m\u001B[38;5;241;43m.\u001B[39;49m\u001B[43mfindall\u001B[49m\u001B[43m(\u001B[49m\u001B[43mdoc\u001B[49m\u001B[38;5;241;43m.\u001B[39;49m\u001B[43mbody\u001B[49m\u001B[38;5;241;43m.\u001B[39;49m\u001B[43mget_text\u001B[49m\u001B[43m(\u001B[49m\u001B[43m)\u001B[49m\u001B[38;5;241;43m.\u001B[39;49m\u001B[43msplit\u001B[49m\u001B[43m(\u001B[49m\u001B[43m)\u001B[49m\u001B[43m)\u001B[49m\n",
      "\u001B[0;31mTypeError\u001B[0m: expected string or bytes-like object, got 'list'"
     ]
    }
   ],
   "source": [
    "re.compile('html').findall(doc.body.get_text().split('\\n'))"
   ]
  },
  {
   "cell_type": "code",
   "execution_count": 51,
   "id": "1831efb3",
   "metadata": {},
   "outputs": [
    {
     "data": {
      "text/plain": [
       "['My first web page', 'My first web page']"
      ]
     },
     "execution_count": 51,
     "metadata": {},
     "output_type": "execute_result"
    }
   ],
   "source": [
    "doc.find_all(string=re.compile('web'))"
   ]
  },
  {
   "cell_type": "code",
   "execution_count": 53,
   "id": "2e479151",
   "metadata": {},
   "outputs": [
    {
     "data": {
      "text/plain": [
       "['A simple page put together using HTML. ',\n",
       " 'To learn HTML',\n",
       " 'Because I have fallen in love with my computer and want to give her some HTML loving.']"
      ]
     },
     "execution_count": 53,
     "metadata": {},
     "output_type": "execute_result"
    }
   ],
   "source": [
    "[t.get_text() for t in doc.body.find_all(string=re.compile('HTML'))]"
   ]
  },
  {
   "cell_type": "code",
   "execution_count": 29,
   "id": "e38c47e7",
   "metadata": {},
   "outputs": [
    {
     "data": {
      "text/plain": [
       "'\\nRow 2, cell 1\\nRow 2, cell 2\\nRow 2, cell 3\\n'"
      ]
     },
     "execution_count": 29,
     "metadata": {},
     "output_type": "execute_result"
    }
   ],
   "source": [
    "doc.body.table.find_all(recursive=False)[1].get_text()"
   ]
  },
  {
   "cell_type": "code",
   "execution_count": 54,
   "id": "81cc7022",
   "metadata": {},
   "outputs": [
    {
     "data": {
      "text/plain": [
       "[<img src=\"http://www.bbb.com/badge2.gif\"/>,\n",
       " <img src=\"http://www.ccc.com/badge3.gif\"/>]"
      ]
     },
     "execution_count": 54,
     "metadata": {},
     "output_type": "execute_result"
    }
   ],
   "source": [
    "doc.body.table.find_all('img')"
   ]
  },
  {
   "cell_type": "code",
   "outputs": [],
   "source": [],
   "metadata": {
    "collapsed": false
   },
   "id": "d511dc6bdad26e03"
  },
  {
   "cell_type": "markdown",
   "source": [
    "# Q4 & 5"
   ],
   "metadata": {
    "collapsed": false
   },
   "id": "daab24eca9a62287"
  },
  {
   "cell_type": "code",
   "outputs": [],
   "source": [
    "with open('Permanent_Faculty.html') as f:\n",
    "    doc = BeautifulSoup(f, 'html.parser')\n",
    "doc.prettify()"
   ],
   "metadata": {
    "collapsed": false,
    "is_executing": true
   },
   "id": "bce0665e5bbd2668"
  },
  {
   "cell_type": "code",
   "outputs": [],
   "source": [],
   "metadata": {
    "collapsed": false
   },
   "id": "1f62ebf4e15f2c41"
  }
 ],
 "metadata": {
  "kernelspec": {
   "display_name": "Python 3 (ipykernel)",
   "language": "python",
   "name": "python3"
  },
  "language_info": {
   "codemirror_mode": {
    "name": "ipython",
    "version": 3
   },
   "file_extension": ".py",
   "mimetype": "text/x-python",
   "name": "python",
   "nbconvert_exporter": "python",
   "pygments_lexer": "ipython3",
   "version": "3.11.8"
  }
 },
 "nbformat": 4,
 "nbformat_minor": 5
}
