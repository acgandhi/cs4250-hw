{
 "cells": [
  {
   "cell_type": "code",
   "execution_count": 2,
   "id": "2fff728c",
   "metadata": {},
   "outputs": [],
   "source": [
    "from bs4 import BeautifulSoup"
   ]
  },
  {
   "cell_type": "code",
   "execution_count": 3,
   "id": "initial_id",
   "metadata": {
    "collapsed": true,
    "is_executing": true
   },
   "outputs": [
    {
     "data": {
      "text/plain": [
       "'<html>\\n <head>\\n  <title>\\n   My first web page\\n  </title>\\n </head>\\n <body>\\n  <h1>\\n   My first web page\\n  </h1>\\n  <h2>\\n   What this is tutorial\\n  </h2>\\n  <p>\\n   A simple page put together using HTML.\\n   <em>\\n    I said a simple page.\\n   </em>\\n   .\\n  </p>\\n  <ul>\\n   <li>\\n    To learn HTML\\n   </li>\\n   <li>\\n    To show off\\n    <ol>\\n     <li>\\n      To my boss\\n     </li>\\n     <li>\\n      To my friends\\n     </li>\\n     <li>\\n      To my cat\\n     </li>\\n     <li>\\n      To the little talking duck in my brain\\n     </li>\\n    </ol>\\n   </li>\\n   <li>\\n    Because I have fallen in love with my computer and want to give her some HTML loving.\\n   </li>\\n  </ul>\\n  <h3>\\n   Where to find the tutorial\\n  </h3>\\n  <p>\\n   <a href=\"http://www.aaa.com\">\\n    <img src=\"http://www.aaa.com/badge1.gif\"/>\\n   </a>\\n  </p>\\n  <h4>\\n   Some random table\\n  </h4>\\n  <table>\\n   <tr class=\"tutorial1\">\\n    <td>\\n     Row 1, cell 1\\n    </td>\\n    <td>\\n     Row 1, cell 2\\n     <img src=\"http://www.bbb.com/badge2.gif\"/>\\n    </td>\\n    <td>\\n     Row 1, cell 3\\n    </td>\\n   </tr>\\n   <tr class=\"tutorial2\">\\n    <td>\\n     Row 2, cell 1\\n    </td>\\n    <td>\\n     Row 2, cell 2\\n    </td>\\n    <td>\\n     Row 2, cell 3\\n     <img src=\"http://www.ccc.com/badge3.gif\"/>\\n    </td>\\n   </tr>\\n  </table>\\n </body>\\n</html>\\n'"
      ]
     },
     "execution_count": 3,
     "metadata": {},
     "output_type": "execute_result"
    }
   ],
   "source": [
    "with open('q2.html') as f:\n",
    "    doc = BeautifulSoup(f, 'html.parser')\n",
    "doc.prettify()"
   ]
  },
  {
   "cell_type": "code",
   "execution_count": 55,
   "id": "ca8e7c773933e71f",
   "metadata": {
    "collapsed": false
   },
   "outputs": [
    {
     "data": {
      "text/plain": [
       "'My first web page'"
      ]
     },
     "execution_count": 55,
     "metadata": {},
     "output_type": "execute_result"
    }
   ],
   "source": [
    "doc.title.get_text()"
   ]
  },
  {
   "cell_type": "code",
   "execution_count": 10,
   "id": "6e00750a",
   "metadata": {},
   "outputs": [
    {
     "data": {
      "text/plain": [
       "'To my friends'"
      ]
     },
     "execution_count": 10,
     "metadata": {},
     "output_type": "execute_result"
    }
   ],
   "source": [
    "doc.body.ul.ol.find_all('li')[1].string"
   ]
  },
  {
   "cell_type": "code",
   "execution_count": 31,
   "id": "58b56a86",
   "metadata": {},
   "outputs": [
    {
     "data": {
      "text/plain": [
       "[<td>Row 1, cell 1</td>,\n",
       " <td>Row 1, cell 2<img src=\"http://www.bbb.com/badge2.gif\"/></td>,\n",
       " <img src=\"http://www.bbb.com/badge2.gif\"/>,\n",
       " <td>Row 1, cell 3</td>]"
      ]
     },
     "execution_count": 31,
     "metadata": {},
     "output_type": "execute_result"
    }
   ],
   "source": [
    "doc.table.tr.find_all()"
   ]
  },
  {
   "cell_type": "code",
   "execution_count": 5,
   "id": "26d01f67",
   "metadata": {},
   "outputs": [],
   "source": [
    "import re"
   ]
  },
  {
   "cell_type": "code",
   "execution_count": 24,
   "id": "945769b3",
   "metadata": {},
   "outputs": [
    {
     "data": {
      "text/plain": [
       "['What this is tutorial']"
      ]
     },
     "execution_count": 24,
     "metadata": {},
     "output_type": "execute_result"
    }
   ],
   "source": [
    "[t.string for t in doc.body.find_all([\"h2\", re.compile(\"tutorial\")])]"
   ]
  },
  {
   "cell_type": "code",
   "execution_count": 27,
   "id": "638855f6",
   "metadata": {},
   "outputs": [
    {
     "data": {
      "text/plain": [
       "'\\nMy first web page\\nWhat this is tutorial\\nA simple page put together using HTML. I said a simple page..\\n\\nTo learn HTML\\n\\n To show off\\n \\nTo my boss\\nTo my friends\\nTo my cat\\nTo the little talking duck in my brain\\n\\n\\nBecause I have fallen in love with my computer and want to give her some HTML loving.\\n\\nWhere to find the tutorial\\n\\nSome random table\\n\\n\\nRow 1, cell 1\\nRow 1, cell 2\\nRow 1, cell 3\\n\\n\\nRow 2, cell 1\\nRow 2, cell 2\\nRow 2, cell 3\\n\\n\\n'"
      ]
     },
     "execution_count": 27,
     "metadata": {},
     "output_type": "execute_result"
    }
   ],
   "source": [
    "doc.body.get_text()"
   ]
  },
  {
   "cell_type": "code",
   "execution_count": 26,
   "id": "65fed9d2",
   "metadata": {},
   "outputs": [
    {
     "ename": "TypeError",
     "evalue": "expected string or bytes-like object, got 'list'",
     "output_type": "error",
     "traceback": [
      "\u001b[0;31m---------------------------------------------------------------------------\u001b[0m",
      "\u001b[0;31mTypeError\u001b[0m                                 Traceback (most recent call last)",
      "Cell \u001b[0;32mIn[26], line 1\u001b[0m\n\u001b[0;32m----> 1\u001b[0m \u001b[43mre\u001b[49m\u001b[38;5;241;43m.\u001b[39;49m\u001b[43mcompile\u001b[49m\u001b[43m(\u001b[49m\u001b[38;5;124;43m'\u001b[39;49m\u001b[38;5;124;43mhtml\u001b[39;49m\u001b[38;5;124;43m'\u001b[39;49m\u001b[43m)\u001b[49m\u001b[38;5;241;43m.\u001b[39;49m\u001b[43mfindall\u001b[49m\u001b[43m(\u001b[49m\u001b[43mdoc\u001b[49m\u001b[38;5;241;43m.\u001b[39;49m\u001b[43mbody\u001b[49m\u001b[38;5;241;43m.\u001b[39;49m\u001b[43mget_text\u001b[49m\u001b[43m(\u001b[49m\u001b[43m)\u001b[49m\u001b[38;5;241;43m.\u001b[39;49m\u001b[43msplit\u001b[49m\u001b[43m(\u001b[49m\u001b[43m)\u001b[49m\u001b[43m)\u001b[49m\n",
      "\u001b[0;31mTypeError\u001b[0m: expected string or bytes-like object, got 'list'"
     ]
    }
   ],
   "source": [
    "re.compile('html').findall(doc.body.get_text().split('\\n'))"
   ]
  },
  {
   "cell_type": "code",
   "execution_count": 51,
   "id": "1831efb3",
   "metadata": {},
   "outputs": [
    {
     "data": {
      "text/plain": [
       "['My first web page', 'My first web page']"
      ]
     },
     "execution_count": 51,
     "metadata": {},
     "output_type": "execute_result"
    }
   ],
   "source": [
    "doc.find_all(string=re.compile('web'))"
   ]
  },
  {
   "cell_type": "code",
   "execution_count": 53,
   "id": "2e479151",
   "metadata": {},
   "outputs": [
    {
     "data": {
      "text/plain": [
       "['A simple page put together using HTML. ',\n",
       " 'To learn HTML',\n",
       " 'Because I have fallen in love with my computer and want to give her some HTML loving.']"
      ]
     },
     "execution_count": 53,
     "metadata": {},
     "output_type": "execute_result"
    }
   ],
   "source": [
    "[t.get_text() for t in doc.body.find_all(string=re.compile('HTML'))]"
   ]
  },
  {
   "cell_type": "code",
   "execution_count": 29,
   "id": "e38c47e7",
   "metadata": {},
   "outputs": [
    {
     "data": {
      "text/plain": [
       "'\\nRow 2, cell 1\\nRow 2, cell 2\\nRow 2, cell 3\\n'"
      ]
     },
     "execution_count": 29,
     "metadata": {},
     "output_type": "execute_result"
    }
   ],
   "source": [
    "doc.body.table.find_all(recursive=False)[1].get_text()"
   ]
  },
  {
   "cell_type": "code",
   "execution_count": 54,
   "id": "81cc7022",
   "metadata": {},
   "outputs": [
    {
     "data": {
      "text/plain": [
       "[<img src=\"http://www.bbb.com/badge2.gif\"/>,\n",
       " <img src=\"http://www.ccc.com/badge3.gif\"/>]"
      ]
     },
     "execution_count": 54,
     "metadata": {},
     "output_type": "execute_result"
    }
   ],
   "source": [
    "doc.body.table.find_all('img')"
   ]
  },
  {
   "cell_type": "code",
   "execution_count": null,
   "id": "d511dc6bdad26e03",
   "metadata": {
    "collapsed": false
   },
   "outputs": [],
   "source": []
  },
  {
   "cell_type": "markdown",
   "id": "daab24eca9a62287",
   "metadata": {
    "collapsed": false
   },
   "source": [
    "# Q4 & 5"
   ]
  },
  {
   "cell_type": "code",
   "execution_count": 2,
   "id": "8055bf75",
   "metadata": {},
   "outputs": [],
   "source": [
    "from bs4 import BeautifulSoup\n",
    "import re"
   ]
  },
  {
   "cell_type": "code",
   "execution_count": 3,
   "id": "bce0665e5bbd2668",
   "metadata": {
    "collapsed": false,
    "is_executing": true
   },
   "outputs": [
    {
     "data": {
      "text/plain": [
       "'<!DOCTYPE html>\\n<html lang=\"en\" xmlns=\"http://www.w3.org/1999/xhtml\">\\n <head>\\n  <meta content=\"IE=edge\" http-equiv=\"X-UA-Compatible\"/>\\n  <title>\\n   Permanent Faculty\\n  </title>\\n  <!-- Required meta tags -->\\n  <meta charset=\"utf-8\"/>\\n  <meta content=\"width=device-width, initial-scale=1, shrink-to-fit=no\" name=\"viewport\"/>\\n  <meta content=\"Science\" property=\"cludo:category\"/>\\n  <meta content=\"2023-06-21T21:49Z\" property=\"date\"/>\\n  <link href=\"https://www.cpp.edu/sci/computer-science/faculty-and-staff/permanent-faculty.shtml\" rel=\"canonical\"/>\\n  <meta content=\"Science\" name=\"description\"/>\\n  <script src=\"https://cdn.levelaccess.net/accessjs/YW1wX2NwcDExMDM/access.js\">\\n  </script>\\n  <script>\\n   // <![CDATA[\\n(function(w,d,s,l,i){w[l]=w[l]||[];w[l].push({\\'gtm.start\\':\\nnew Date().getTime(),event:\\'gtm.js\\'});var f=d.getElementsByTagName(s)[0],\\nj=d.createElement(s),dl=l!=\\'dataLayer\\'?\\'&l=\\'+l:\\'\\';j.async=true;j.src=\\n\\'https://www.googletagmanager.com/gtm.js?id=\\'+i+dl;f.parentNode.insertBefore(j,f);\\n})(window,document,\\'script\\',\\'dataLayer\\',\\'GTM-PSKJRNV\\');\\n// ]]>\\n  </script>\\n  <link crossorigin=\"anonymous\" href=\"https://stackpath.bootstrapcdn.com/bootstrap/4.1.1/css/bootstrap.min.css\" integrity=\"sha384-WskhaSGFgHYWDcbwN70/dfYBj47jz9qbsMId/iRN3ewGhXQFZCSftd1LZCfmhktB\" rel=\"stylesheet\"/>\\n  <script crossorigin=\"anonymous\" defer=\"defer\" integrity=\"sha384-FW78RPcSpi13vjx77nPWQIrQbNSLkPBopb0qGzLCxD2x4Kr6FA8V05C/6cpgkKPL\" src=\"https://pro.fontawesome.com/releases/v5.10.1/js/all.js\">\\n  </script>\\n  <link href=\"https://www.cpp.edu/common/2018/assets/css/cpp-base-styles.css\" rel=\"stylesheet\"/>\\n  <link href=\"https://www.cpp.edu/common/2018/assets/css/cpp-extended-styles.css\" rel=\"stylesheet\"/>\\n  <link href=\"https://customer.cludo.com/assets/10000600/10000921/cludo-search.min.css\" rel=\"stylesheet\" type=\"text/css\"/>\\n </head>\\n <body>\\n  <style>\\n   <!--\\n#consent-box {\\n\\twidth: 315px;\\n\\tbackground: #fff;\\n\\tposition: fixed;\\n\\tbottom: 20px;\\n\\tline-height: 25px;\\n\\tright: 20px;\\n\\tz-index: 9999;\\n\\tpadding: 15px;\\n\\t-webkit-box-shadow: 0 0 15px rgba(0, 0, 0, .5);\\n\\tbox-shadow: 0 0 15px rgba(0, 0, 0, .5);\\n\\tfont-size: 11pt;\\n\\tdisplay: none;\\n}\\n\\n#accept-btn,\\n#learn-more {\\n\\tmargin: 0 5px\\n}\\n@media screen and max-width(767px) {\\n    form.gsc-search-box {\\n        width: 100%;\\n    }\\n    #searchhelp {\\n        top: 120px;\\n    }\\n}\\nform.gsc-search-box {\\n\\tmargin-top: 0;\\n    margin-right: 0;\\n    margin-bottom: 0;\\n    margin-left: 0;\\n    width: auto;\\n}\\ntable.gsc-seach-box td.gsc-input {\\npadding: 0;\\n    margin: 0;\\n}\\ntable.gsc-inpute {\\nwidth: 250px;\\n    padding: 0px;\\n}\\ntable.gsc-search-box td.gsc-input {\\n    padding-right: 0;\\n    width: 290px;\\n    background-color: #e6e6e6;\\n}\\n\\ninput.gsc-input, .gsc-input-box, .gsc-input-box-hover, .gsc-input-box-focus {\\n    border-color: #DFE1E5;\\n    width: 100%;\\n    padding: 0 0 0 5px !important;\\n    font-weight: 100;\\n    height: 60px;\\n    background: none !important;\\n    border: none;\\n    color: #4e4e4e;\\n}\\n.gsc-search-button-v2 {\\n    padding: 0;\\n}\\n.gsc-search-button-v2 svg {\\n\\twidth: auto;\\n    \\theight: 18px;\\n}\\nform.gsc-search-box {\\n    margin-top: -1px;\\n    margin-right: 0;\\n    margin-bottom: 0;\\n    margin-left: 0;\\n    width: auto;\\n}\\n.gsib_a {\\n    padding: 0;\\n}\\n.gscb_a {\\n    line-height: 60px;\\n}\\n.gsc-search-button-v2, .gsc-search-button-v2:hover, .gsc-search-button-v2:focus {\\n    border-color: #01426A;\\n    background-color: #01426A;\\n    background-image: none;\\n    filter: none;\\n    height: 60px;\\n    width: 50px;\\n    border: none;\\n    font-size: 24px;\\n    border-radius: 0;\\n    margin: 0;\\n    vertical-align: top;\\n}\\ninput.gsc-input {\\n    font-weight: 100;\\n    font-size: 20px !important;\\n    color: #4e4e4e;\\n}\\ninput.gsc-input::placeholder {\\n    font-weight: 100;\\n    font-size: 20px !important;\\n    color: #4e4e4e;\\n}\\n\\n#searchhelp {\\n    width: 340px;\\n}\\n#gsc-i-id1 {\\n    height:auto !important;\\n}\\n.gstl_50 {\\n    margin-top:-7px;\\n}\\n-->\\n  </style>\\n  <div id=\"consent-box\" role=\"alert\" tabindex=\"0\">\\n   We use cookies to make your website experience better. To learn about how we keep your information safe, view our\\n   <a href=\"https://www.cpp.edu/privacy.shtml\" rel=\"noopener\" target=\"_blank\">\\n    Privacy Policy\\n   </a>\\n   .\\n   <div style=\"text-align: center; margin-top: 15px;\">\\n    <button class=\"btn btn-primary\" id=\"accept-btn\" type=\"submit\">\\n     Accept\\n    </button>\\n   </div>\\n  </div>\\n  <div class=\"cpp-alert-bar\">\\n   <?xml version=\"1.0\" encoding=\"utf-8\" ?>\\n   <div lang=\"en\">\\n   </div>\\n  </div>\\n  <header class=\"fixed-top\" title=\"Cal Poly Pomona Search\">\\n   <nav class=\"navbar navbar-expand transparent cpp-logobar-min\" id=\"cpp-logobar\">\\n    <div class=\"navbar-nav mr-auto\">\\n     <a class=\"logo align-middle\" href=\"https://www.cpp.edu/index.shtml\" id=\"cpp-header-logo-link\">\\n      <img alt=\"Cal Poly Pomona\" id=\"cpp-logo-octo\" src=\"https://www.cpp.edu/common/2018/assets/img/cpp-octo-web.svg\"/>\\n     </a>\\n     <a class=\"logo align-middle\" href=\"/~sci/index.shtml\">\\n      <img alt=\"College of Science\" id=\"sci-logo\" src=\"https://www.cpp.edu/common/2018/assets/img/college-of-science-brand.png\"/>\\n     </a>\\n     <a class=\"sr-only\" href=\"#main\" id=\"skip-to-nav\">\\n      Skip To Main Content\\n     </a>\\n    </div>\\n    <script async=\"\" src=\"https://cse.google.com/cse.js?cx=007035455219528863532:fcaogmpwbtt\">\\n    </script>\\n    <div class=\"gcse-searchbox-only\" data-resultsurl=\"https://www.cpp.edu/search.shtml\">\\n    </div>\\n    <div aria-expanded=\"false\" class=\"show\" id=\"shcontainer\">\\n     <div aria-labelledby=\"suggestedh2\" aria-live=\"polite\" class=\"\" id=\"searchhelp\">\\n      <h2 id=\"suggestedh2\" tabindex=\"0\">\\n       Popular Searches\\n      </h2>\\n      <button aria-label=\"close popular searches window\" class=\"close\" id=\"close-search\" type=\"button\">\\n       ×\\n      </button>\\n      <ul id=\"autocomplete-results\">\\n      </ul>\\n     </div>\\n    </div>\\n   </nav>\\n  </header>\\n  <div id=\"alert\">\\n  </div>\\n  <header title=\"Computer Science\">\\n   <custom>\\n   </custom>\\n   <div id=\"dept-title\">\\n    Computer Science\\n   </div>\\n  </header>\\n  <main class=\"container-fluid flex-grow\">\\n   <div class=\"row\">\\n    <div class=\"col-12 col-md-4 col-lg-3\">\\n     <nav class=\"navbar navbar-expand-md navbar-light\">\\n      <button aria-controls=\"navbarSupportedContent\" aria-expanded=\"false\" aria-label=\"Toggle navigation\" class=\"navbar-toggler navbar-toggler-right\" data-target=\"#navbarSupportedContent\" data-toggle=\"collapse\" id=\"site-menu-expand-button\" type=\"button\">\\n       <span class=\"navbar-toggler-icon\">\\n       </span>\\n      </button>\\n      <div class=\"collapse navbar-collapse\" id=\"navbarSupportedContent\">\\n       <ul class=\"nav nav-pills left-nav\" id=\"site-nav\">\\n        <li id=\"li-1\">\\n         <a class=\"nav-link\" data-parent=\"#site-nav\" href=\"/sci/computer-science/index.shtml\">\\n          Home\\n         </a>\\n        </li>\\n        <li class=\"nav-item collapsed\" id=\"li-2\">\\n         <a aria-controls=\"menu\" aria-expanded=\"false\" class=\"nav-link\" data-parent=\"#site-nav\" data-toggle=\"collapse\" href=\"#item-1\">\\n          Program Evaluation\\n          <i class=\"fas fa-chevron-right nav-folder-collapsed\">\\n          </i>\\n          <i class=\"fas fa-chevron-right fa-rotate-90 nav-folder-expanded\">\\n          </i>\\n         </a>\\n        </li>\\n        <div class=\"collapse\" id=\"item-1\">\\n         <ul class=\"nav flex-column ml-3\">\\n          <li class=\"nav-item\" id=\"li-3\">\\n           <a class=\"nav-link\" data-parent=\"#item-1\" href=\"/sci/computer-science/program-evaluation/index.shtml\">\\n            Program Evaluation\\n           </a>\\n          </li>\\n          <li class=\"nav-item\" id=\"li-4\">\\n           <a class=\"nav-link\" data-parent=\"#item-1\" href=\"/sci/computer-science/program-evaluation/accreditation-and-assessment.shtml\">\\n            Program Accreditation &amp; Assessment\\n           </a>\\n          </li>\\n          <li class=\"nav-item\" id=\"li-5\">\\n           <a class=\"nav-link\" data-parent=\"#item-1\" href=\"/sci/computer-science/program-evaluation/accreditation-reports.shtml\">\\n            Assessment Reports\\n           </a>\\n          </li>\\n         </ul>\\n        </div>\\n        <li class=\"nav-item collapsed\" id=\"li-6\">\\n         <a aria-controls=\"menu\" aria-expanded=\"false\" class=\"nav-link\" data-parent=\"#site-nav\" data-toggle=\"collapse\" href=\"#item-2\">\\n          Undergraduate Program\\n          <i class=\"fas fa-chevron-right nav-folder-collapsed\">\\n          </i>\\n          <i class=\"fas fa-chevron-right fa-rotate-90 nav-folder-expanded\">\\n          </i>\\n         </a>\\n        </li>\\n        <div class=\"collapse\" id=\"item-2\">\\n         <ul class=\"nav flex-column ml-3\">\\n          <li class=\"nav-item\" id=\"li-7\">\\n           <a class=\"nav-link\" data-parent=\"#item-2\" href=\"/sci/computer-science/undergraduate-program/index.shtml\">\\n            Undergraduate Program\\n           </a>\\n          </li>\\n          <li class=\"nav-item\" id=\"li-8\">\\n           <a class=\"nav-link\" data-parent=\"#item-2\" href=\"/sci/computer-science/undergraduate-program/course-descriptions.shtml\">\\n            Course Descriptions\\n           </a>\\n          </li>\\n          <li class=\"nav-item\" id=\"li-9\">\\n           <a class=\"nav-link\" data-parent=\"#item-2\" href=\"/sci/computer-science/undergraduate-program/student-resources.shtml\">\\n            Student Resources\\n           </a>\\n          </li>\\n          <li class=\"nav-item\" id=\"li-10\">\\n           <a class=\"nav-link\" data-parent=\"#item-2\" href=\"/sci/computer-science/undergraduate-program/employment-opportunities.shtml\">\\n            Employment Opportunities\\n           </a>\\n          </li>\\n          <li class=\"nav-item\" id=\"li-11\">\\n           <a class=\"nav-link\" data-parent=\"#item-2\" href=\"/sci/computer-science/undergraduate-program/research-opportunities.shtml\">\\n            Research Opportunities\\n           </a>\\n          </li>\\n          <li class=\"nav-item\" id=\"li-12\">\\n           <a class=\"nav-link\" data-parent=\"#item-2\" href=\"/sci/computer-science/undergraduate-program/scholarship-opportunities.shtml\">\\n            Scholarship Opportunities\\n           </a>\\n          </li>\\n          <li class=\"nav-item\" id=\"li-13\">\\n           <a class=\"nav-link\" data-parent=\"#item-2\" href=\"/sci/computer-science/undergraduate-program/minor-in-cs.shtml\">\\n            Minor in CS\\n           </a>\\n          </li>\\n          <li class=\"nav-item\" id=\"li-14\">\\n           <a class=\"nav-link\" data-parent=\"#item-2\" href=\"/sci/computer-science/undergraduate-program/seniorproject.shtml\">\\n            CS Senior Project\\n           </a>\\n          </li>\\n          <li class=\"nav-item\" id=\"li-15\">\\n           <a class=\"nav-link\" data-parent=\"#item-2\" href=\"/sci/computer-science/undergraduate-program/internship.shtml\">\\n            CS Internship\\n           </a>\\n          </li>\\n          <li class=\"nav-item\" id=\"li-16\">\\n           <a class=\"nav-link\" data-parent=\"#item-2\" href=\"/sci/computer-science/undergraduate-program/forms.shtml\">\\n            Forms\\n           </a>\\n          </li>\\n          <li class=\"nav-item\" id=\"li-17\">\\n           <a class=\"nav-link\" data-parent=\"#item-2\" href=\"https://www.cpp.edu/sci/ds/\">\\n            Minor in Data Science\\n           </a>\\n          </li>\\n         </ul>\\n        </div>\\n        <li class=\"nav-item collapsed\" id=\"li-18\">\\n         <a aria-controls=\"menu\" aria-expanded=\"false\" class=\"nav-link\" data-parent=\"#site-nav\" data-toggle=\"collapse\" href=\"#item-3\">\\n          Prospective Graduate Students\\n          <i class=\"fas fa-chevron-right nav-folder-collapsed\">\\n          </i>\\n          <i class=\"fas fa-chevron-right fa-rotate-90 nav-folder-expanded\">\\n          </i>\\n         </a>\\n        </li>\\n        <div class=\"collapse\" id=\"item-3\">\\n         <ul class=\"nav flex-column ml-3\">\\n          <li class=\"nav-item\" id=\"li-19\">\\n           <a class=\"nav-link\" data-parent=\"#item-3\" href=\"/sci/computer-science/prospective-graduate-students/index.shtml\">\\n            Prospective Graduate Students\\n           </a>\\n          </li>\\n          <li class=\"nav-item\" id=\"li-20\">\\n           <a class=\"nav-link\" data-parent=\"#item-3\" href=\"/sci/computer-science/prospective-graduate-students/program-information.shtml\">\\n            Program Information\\n           </a>\\n          </li>\\n          <li class=\"nav-item\" id=\"li-21\">\\n           <a class=\"nav-link\" data-parent=\"#item-3\" href=\"/sci/computer-science/prospective-graduate-students/admission-requirements.shtml\">\\n            Admission Requirements\\n           </a>\\n          </li>\\n          <li class=\"nav-item\" id=\"li-22\">\\n           <a class=\"nav-link\" data-parent=\"#item-3\" href=\"/sci/computer-science/prospective-graduate-students/application-procedures.shtml\">\\n            Application Procedures\\n           </a>\\n          </li>\\n          <li class=\"nav-item\" id=\"li-23\">\\n           <a class=\"nav-link\" data-parent=\"#item-3\" href=\"/sci/computer-science/prospective-graduate-students/frequently-asked-questions.shtml\">\\n            Frequently Asked Questions\\n           </a>\\n          </li>\\n         </ul>\\n        </div>\\n        <li class=\"nav-item collapsed\" id=\"li-24\">\\n         <a aria-controls=\"menu\" aria-expanded=\"false\" class=\"nav-link\" data-parent=\"#site-nav\" data-toggle=\"collapse\" href=\"#item-4\">\\n          Current Graduate Students\\n          <i class=\"fas fa-chevron-right nav-folder-collapsed\">\\n          </i>\\n          <i class=\"fas fa-chevron-right fa-rotate-90 nav-folder-expanded\">\\n          </i>\\n         </a>\\n        </li>\\n        <div class=\"collapse\" id=\"item-4\">\\n         <ul class=\"nav flex-column ml-3\">\\n          <li class=\"nav-item\" id=\"li-25\">\\n           <a class=\"nav-link\" data-parent=\"#item-4\" href=\"/sci/computer-science/current-graduate-students/index.shtml\">\\n            Current Graduate Students\\n           </a>\\n          </li>\\n          <li class=\"nav-item\" id=\"li-26\">\\n           <a class=\"nav-link\" data-parent=\"#item-4\" href=\"/sci/computer-science/current-graduate-students/news-and-announcements.shtml\">\\n            News &amp; Announcements\\n           </a>\\n          </li>\\n          <li class=\"nav-item\" id=\"li-27\">\\n           <a class=\"nav-link\" data-parent=\"#item-4\" href=\"/sci/computer-science/current-graduate-students/course-descriptions.shtml\">\\n            Course Descriptions\\n           </a>\\n          </li>\\n          <li class=\"nav-item\" id=\"li-28\">\\n           <a class=\"nav-link\" data-parent=\"#item-4\" href=\"/sci/computer-science/current-graduate-students/planned-future-course-offerings.shtml\">\\n            Planned Future Course Offerings\\n           </a>\\n          </li>\\n          <li class=\"nav-item\" id=\"li-29\">\\n           <a class=\"nav-link\" data-parent=\"#item-4\" href=\"https://www.cpp.edu/sci/computer-science/faculty-and-staff/faculty-research-int.shtml\">\\n            Faculty Research and Interests\\n           </a>\\n          </li>\\n          <li class=\"nav-item\" id=\"li-30\">\\n           <a class=\"nav-link\" data-parent=\"#item-4\" href=\"/sci/computer-science/current-graduate-students/past-masters-theses.shtml\">\\n            Recent Master’s Theses/Projects\\n           </a>\\n          </li>\\n          <li class=\"nav-item\" id=\"li-31\">\\n           <a class=\"nav-link\" data-parent=\"#item-4\" href=\"/sci/computer-science/current-graduate-students/program-assessment.shtml\">\\n            Program Assessment\\n           </a>\\n          </li>\\n          <li class=\"nav-item\" id=\"li-32\">\\n           <a class=\"nav-link\" data-parent=\"#item-4\" href=\"/sci/computer-science/current-graduate-students/graduate-resources.shtml\">\\n            Graduate Resources\\n           </a>\\n          </li>\\n         </ul>\\n        </div>\\n        <li class=\"nav-item collapsed\" id=\"li-33\">\\n         <a aria-controls=\"menu\" aria-expanded=\"false\" class=\"nav-link\" data-parent=\"#site-nav\" data-toggle=\"collapse\" href=\"#item-5\">\\n          Faculty &amp; Staff\\n          <i class=\"fas fa-chevron-right nav-folder-collapsed\">\\n          </i>\\n          <i class=\"fas fa-chevron-right fa-rotate-90 nav-folder-expanded\">\\n          </i>\\n         </a>\\n        </li>\\n        <div class=\"collapse\" id=\"item-5\">\\n         <ul class=\"nav flex-column ml-3\">\\n          <li class=\"nav-item\" id=\"li-34\">\\n           <a class=\"nav-link\" data-parent=\"#item-5\" href=\"/sci/computer-science/faculty-and-staff/index.shtml\">\\n            Faculty &amp; Staff\\n           </a>\\n          </li>\\n          <li class=\"nav-item\" id=\"li-35\">\\n           <a class=\"nav-link\" data-parent=\"#item-5\" href=\"/sci/computer-science/faculty-and-staff/permanent-faculty.shtml\">\\n            Permanent Faculty\\n           </a>\\n          </li>\\n          <li class=\"nav-item\" id=\"li-36\">\\n           <a class=\"nav-link\" data-parent=\"#item-5\" href=\"/sci/computer-science/faculty-and-staff/lecturers.shtml\">\\n            Lecturers\\n           </a>\\n          </li>\\n          <li class=\"nav-item\" id=\"li-37\">\\n           <a class=\"nav-link\" data-parent=\"#item-5\" href=\"/sci/computer-science/faculty-and-staff/emeritus.shtml\">\\n            Emeritus\\n           </a>\\n          </li>\\n          <li class=\"nav-item\" id=\"li-38\">\\n           <a class=\"nav-link\" data-parent=\"#item-5\" href=\"/sci/computer-science/faculty-and-staff/staff.shtml\">\\n            Staff\\n           </a>\\n          </li>\\n          <li class=\"nav-item\" id=\"li-39\">\\n           <a class=\"nav-link\" data-parent=\"#item-5\" href=\"/sci/computer-science/faculty-and-staff/faculty-research-int.shtml\">\\n            Faculty Research Interests\\n           </a>\\n          </li>\\n          <li class=\"nav-item\" id=\"li-40\">\\n           <a class=\"nav-link\" data-parent=\"#item-5\" href=\"/sci/computer-science/faculty-and-staff/awards.shtml\">\\n            Faculty &amp; Staff Awards\\n           </a>\\n          </li>\\n         </ul>\\n        </div>\\n        <li class=\"nav-item collapsed\" id=\"li-41\">\\n         <a aria-controls=\"menu\" aria-expanded=\"false\" class=\"nav-link\" data-parent=\"#site-nav\" data-toggle=\"collapse\" href=\"#item-6\">\\n          CS Student Labs\\n          <i class=\"fas fa-chevron-right nav-folder-collapsed\">\\n          </i>\\n          <i class=\"fas fa-chevron-right fa-rotate-90 nav-folder-expanded\">\\n          </i>\\n         </a>\\n        </li>\\n        <div class=\"collapse\" id=\"item-6\">\\n         <ul class=\"nav flex-column ml-3\">\\n          <li class=\"nav-item\" id=\"li-42\">\\n           <a class=\"nav-link\" data-parent=\"#item-6\" href=\"/sci/computer-science/student-labs/index.shtml\">\\n            CS Student Labs\\n           </a>\\n          </li>\\n          <li class=\"nav-item\" id=\"li-43\">\\n           <a class=\"nav-link\" data-parent=\"#item-6\" href=\"/sci/computer-science/student-labs/use-and-hours.shtml\">\\n            Lab Use and Hours\\n           </a>\\n          </li>\\n          <li class=\"nav-item\" id=\"li-44\">\\n           <a class=\"nav-link\" data-parent=\"#item-6\" href=\"/sci/computer-science/student-labs/instructional-labs.shtml\">\\n            Instructional Labs\\n           </a>\\n          </li>\\n          <li class=\"nav-item\" id=\"li-45\">\\n           <a class=\"nav-link\" data-parent=\"#item-6\" href=\"/sci/computer-science/student-labs/research-labs.shtml\">\\n            Research Labs\\n           </a>\\n          </li>\\n         </ul>\\n        </div>\\n        <li class=\"nav-item collapsed\" id=\"li-46\">\\n         <a class=\"nav-link\" data-parent=\"#site-nav\" href=\"/sci/computer-science/student-clubs/index.shtml\">\\n          CS Student Clubs\\n         </a>\\n        </li>\\n        <li class=\"nav-item collapsed\" id=\"li-47\">\\n         <a aria-controls=\"menu\" aria-expanded=\"false\" class=\"nav-link\" data-parent=\"#site-nav\" data-toggle=\"collapse\" href=\"#item-7\">\\n          Advising &amp; Procedures\\n          <i class=\"fas fa-chevron-right nav-folder-collapsed\">\\n          </i>\\n          <i class=\"fas fa-chevron-right fa-rotate-90 nav-folder-expanded\">\\n          </i>\\n         </a>\\n        </li>\\n        <div class=\"collapse\" id=\"item-7\">\\n         <ul class=\"nav flex-column ml-3\">\\n          <li class=\"nav-item\" id=\"li-48\">\\n           <a class=\"nav-link\" data-parent=\"#item-7\" href=\"https://www.cpp.edu/sci/advising-center/\">\\n            College of Science Advising Center\\n           </a>\\n          </li>\\n         </ul>\\n        </div>\\n        <li id=\"li-49\">\\n         <a class=\"nav-link\" data-parent=\"#site-nav\" href=\"/sci/computer-science/alumni.shtml\">\\n          Alumni\\n         </a>\\n        </li>\\n        <li id=\"li-50\">\\n         <a class=\"nav-link\" data-parent=\"#site-nav\" href=\"/sci/computer-science/cs-for-all.shtml\">\\n          CSSA @ CPP\\n         </a>\\n        </li>\\n        <li class=\"nav-item collapsed\" id=\"li-51\">\\n         <a class=\"nav-link\" data-parent=\"#site-nav\" href=\"/sci/computer-science/collaboration-and-outreach/index.shtml\">\\n          Collaboration and Outreach\\n         </a>\\n        </li>\\n        <li id=\"li-52\">\\n         <a class=\"nav-link\" data-parent=\"#site-nav\" href=\"/sci/computer-science/support-the-department.shtml\">\\n          Support the Department\\n         </a>\\n        </li>\\n        <li id=\"li-53\">\\n         <a class=\"nav-link\" data-parent=\"#site-nav\" href=\"/sci/computer-science/contact-information.shtml\">\\n          Contact Information\\n         </a>\\n        </li>\\n       </ul>\\n      </div>\\n     </nav>\\n    </div>\\n    <div class=\"col-sm col-md-8 col-lg-9\" id=\"main\">\\n     <h1 class=\"cpp-h1\">\\n      Permanent Faculty\\n     </h1>\\n     <section class=\"text-images\" id=\"s0\">\\n      <div class=\"clearfix\">\\n       <img alt=\"Abdelfattah Amamra\" height=\"161\" src=\"../img/faculty-staff/abdel.jpg\" style=\"width: 150px; height: auto; margin-right: 8px; float: left;\" width=\"120\"/>\\n       <h2>\\n        Abdelfattah Amamra\\n       </h2>\\n       <p>\\n        <strong>\\n         Title:\\n        </strong>\\n        Associate Professor\\n        <br/>\\n        <strong>\\n         Office:\\n        </strong>\\n        8-11\\n        <br/>\\n        <strong>\\n         Phone:\\n        </strong>\\n        (909) 869-3447\\n        <br/>\\n        <strong>\\n         Email:\\n        </strong>\\n        <a href=\"mailto:aamamra@cpp.edu\">\\n         aamamra@cpp.edu\\n        </a>\\n        <br/>\\n        <strong>\\n         Web:\\n        </strong>\\n        <a href=\"https://www.cpp.edu/faculty/aamamra/index.shtml\">\\n         cpp.edu/faculty/aamamra/\\n        </a>\\n       </p>\\n      </div>\\n      <hr/>\\n      <div class=\"clearfix\">\\n       <img alt=\"Tingting Chen\" height=\"160\" src=\"../img/faculty-staff/chen.jpg\" style=\"width: 150px; height: auto; margin-right: 8px; float: left;\" width=\"120\"/>\\n       <h2>\\n        Tingting Chen\\n       </h2>\\n       <p>\\n        <strong>\\n         Title:\\n        </strong>\\n        Professor\\n        <br/>\\n        <strong>\\n         Office:\\n        </strong>\\n        8-09\\n        <br/>\\n        <strong>\\n         Phone:\\n        </strong>\\n        (909) 869-4842\\n        <br/>\\n        <strong>\\n         Email:\\n        </strong>\\n        <a href=\"mailto:tingtingchen@cpp.edu\">\\n         tingtingchen@cpp.edu\\n        </a>\\n        <br/>\\n        <strong>\\n         Web:\\n        </strong>\\n        <a href=\"http://www.cpp.edu/faculty/tingtingchen/\">\\n         cpp.edu/faculty/tingtingchen/\\n        </a>\\n       </p>\\n      </div>\\n      <div class=\"clearfix\">\\n       <hr/>\\n      </div>\\n      <div class=\"clearfix\">\\n       <img alt=\"Markus Eger\" height=\"160\" src=\"../img/faculty-staff/markuseger.jpg\" style=\"width: 150px; height: auto; margin-right: 8px; float: left;\" width=\"120\"/>\\n       <h2>\\n        Markus Eger\\n       </h2>\\n       <p>\\n        <strong>\\n         Title:\\n        </strong>\\n        Assistant Professor\\n        <br/>\\n        <strong>\\n         Office:\\n        </strong>\\n        8-43\\n        <br/>\\n        <strong>\\n         Phone:\\n        </strong>\\n        (909) 869-\\n        <br/>\\n        <strong>\\n         Email:\\n        </strong>\\n        <a href=\"mailto:meger@cpp.edu\">\\n         meger@cpp.edu\\n        </a>\\n        <br/>\\n        <strong>\\n         Web:\\n        </strong>\\n        <a href=\"http://www.cpp.edu/faculty/meger\">\\n         cpp.edu/faculty/meger/\\n        </a>\\n       </p>\\n      </div>\\n      <hr/>\\n      <div class=\"clearfix\">\\n       <img alt=\"Mohammad Husain\" height=\"161\" src=\"../img/faculty-staff/husain.png\" style=\"width: 150px; height: auto; margin-right: 8px; float: left;\" width=\"124\"/>\\n       <h2>\\n        Mohammad Husain\\n       </h2>\\n       <p>\\n        <strong>\\n         Title:\\n        </strong>\\n        Professor &amp; Graduate Coordinator\\n        <br/>\\n        <strong>\\n         Office:\\n        </strong>\\n        8-41\\n        <br/>\\n        <strong>\\n         Phone:\\n        </strong>\\n        (909) 869-2022\\n        <br/>\\n        <strong>\\n         Email:\\n        </strong>\\n        <a href=\"mailto:mihusain@cpp.edu\">\\n         mihusain@cpp.edu\\n        </a>\\n        <br/>\\n        <strong>\\n         Web:\\n        </strong>\\n        <a href=\"http://www.cpp.edu/faculty/mihusain/\">\\n         cpp.edu/faculty/mihusain/\\n        </a>\\n       </p>\\n      </div>\\n      <hr/>\\n      <div class=\"clearfix\">\\n       <img alt=\"Hao Ji\" height=\"160\" src=\"../img/faculty-staff/haoji.jpg\" style=\"width: 150px; height: auto; margin-right: 8px; float: left;\" width=\"120\"/>\\n       <h2>\\n        Hao Ji\\n       </h2>\\n       <p>\\n        <strong>\\n         Title:\\n        </strong>\\n        Associate Professor\\n        <br/>\\n        <strong>\\n         Office:\\n        </strong>\\n        8-42\\n        <br/>\\n        <strong>\\n         Phone:\\n        </strong>\\n        (909) 869-5521\\n        <br/>\\n        <strong>\\n         Email:\\n        </strong>\\n        <a href=\"mailto:hji@cpp.edu\">\\n         hji@cpp.edu\\n        </a>\\n        <br/>\\n        <strong>\\n         Web:\\n        </strong>\\n        <a href=\"http://www.cpp.edu/faculty/hji/\">\\n         cpp.edu/faculty/hji/\\n        </a>\\n       </p>\\n      </div>\\n      <div class=\"clearfix\">\\n       <hr/>\\n       <img alt=\"John Korah\" height=\"162\" src=\"../img/faculty-staff/johnkorah.jpg\" style=\"width: 150px; height: auto; margin-right: 8px; float: left;\" width=\"120\"/>\\n       <h2>\\n        John Korah\\n       </h2>\\n       <p>\\n        <strong>\\n         Title:\\n        </strong>\\n        Assistant Professor\\n        <br/>\\n        <strong>\\n         Office:\\n        </strong>\\n        8-15\\n        <br/>\\n        <strong>\\n         Phone\\n        </strong>\\n        : (909) 869-3441\\n        <br/>\\n        <strong>\\n         Email\\n        </strong>\\n        :\\n        <a href=\"mailto:jkorah@cpp.edu\">\\n         jkorah@cpp.edu\\n        </a>\\n        <br/>\\n        <strong>\\n         Web\\n        </strong>\\n        :\\n        <a href=\"http://www.cpp.edu/faculty/jkorah/\">\\n         cpp.edu/faculty/jkorah/\\n        </a>\\n       </p>\\n      </div>\\n      <div class=\"clearfix\">\\n       <hr/>\\n      </div>\\n      <div class=\"clearfix\">\\n       <img alt=\"Ericsson Marin\" height=\"157\" src=\"../img/faculty-staff/ericsson.jpg\" style=\"width: 150px; height: auto; margin-right: 8px; float: left;\" width=\"121\"/>\\n       <h2>\\n        Ericsson Santana Marin\\n       </h2>\\n       <p>\\n        <strong>\\n         Title:\\n        </strong>\\n        Assistant Professor\\n        <br/>\\n        <strong>\\n         Office:\\n        </strong>\\n        8-39\\n        <br/>\\n        <strong>\\n         Phone:\\n        </strong>\\n        (909) 869-3909\\n        <br/>\\n        <strong>\\n         Email:\\n        </strong>\\n        <a href=\"mailto:santanamarin@cpp.edu\">\\n         santanamarin@cpp.edu\\n        </a>\\n        <br/>\\n        <strong>\\n         Web:\\n        </strong>\\n        <a href=\"https://www.cpp.edu/faculty/santanamarin\">\\n         cpp.edu/faculty/santanamarin\\n        </a>\\n       </p>\\n      </div>\\n      <hr/>\\n      <div class=\"clearfix\">\\n       <img alt=\"Amar Raheja\" height=\"162\" src=\"../img/faculty-staff/raheja.png\" style=\"width: 150px; height: auto; margin-right: 8px; float: left;\" width=\"120\"/>\\n       <h2>\\n        Amar Raheja\\n       </h2>\\n       <p>\\n        <strong>\\n         Title:\\n        </strong>\\n        Associate Chair and Professor\\n        <br/>\\n        <strong>\\n         Office:\\n        </strong>\\n        8-10\\n        <br/>\\n        <strong>\\n         Phone:\\n        </strong>\\n        (909) 869-4412\\n        <br/>\\n        <strong>\\n         Email:\\n        </strong>\\n        <a href=\"mailto:raheja@cpp.edu\">\\n         raheja@cpp.edu\\n        </a>\\n        <br/>\\n        <strong>\\n         Web:\\n        </strong>\\n        <a href=\"http://www.cpp.edu/faculty/raheja/\">\\n         cpp.edu/faculty/raheja/\\n        </a>\\n       </p>\\n      </div>\\n      <div class=\"clearfix\">\\n      </div>\\n      <hr/>\\n      <div class=\"clearfix\">\\n       <img alt=\"Salam Salloum\" height=\"150\" src=\"../img/faculty-staff/salloum.jpg\" style=\"width: 150px; height: auto; margin-right: 8px; float: left;\" width=\"106\"/>\\n       <h2>\\n        Salam Salloum\\n       </h2>\\n       <p>\\n        <strong>\\n         Title\\n        </strong>\\n        : Professor\\n        <br/>\\n        <strong>\\n         Office\\n        </strong>\\n        : 8-8\\n        <br/>\\n        <strong>\\n         Phone\\n        </strong>\\n        : (909) 869-5317\\n        <br/>\\n        <strong>\\n         Email\\n        </strong>\\n        :\\n        <a href=\"mailto:ssalloum@cpp.edu\">\\n         ssalloum@cpp.edu\\n        </a>\\n        <br/>\\n        <strong>\\n         Web\\n        </strong>\\n        :\\n        <a href=\"http://www.cpp.edu/faculty/ssalloum/\">\\n         cpp.edu/faculty/ssalloum/\\n        </a>\\n       </p>\\n      </div>\\n      <hr/>\\n      <div class=\"clearfix\">\\n       <img alt=\"Ben Steichen\" height=\"160\" src=\"../img/faculty-staff/ben.jpg\" style=\"width: 150px; height: auto; margin-right: 8px; float: left;\" width=\"120\"/>\\n       <h2>\\n        Ben Steichen\\n       </h2>\\n       <p>\\n        <strong>\\n         Title:\\n        </strong>\\n        Associate Professor\\n        <br/>\\n        <strong>\\n         Office:\\n        </strong>\\n        8-44\\n        <br/>\\n        <strong>\\n         Phone:\\n        </strong>\\n        (909) 869-3437\\n        <br/>\\n        <strong>\\n         Email:\\n        </strong>\\n        <a href=\"mailto:bsteichen@cpp.edu\">\\n         bsteichen@cpp.edu\\n        </a>\\n        <br/>\\n        <strong>\\n         Web:\\n        </strong>\\n        <a href=\"http://www.cpp.edu/faculty/bsteichen/\">\\n         cpp.edu/faculty/bsteichen/\\n        </a>\\n       </p>\\n      </div>\\n      <hr/>\\n      <br/>\\n      <hr/>\\n      <div class=\"clearfix\">\\n       <img alt=\"Assistant Professor Yu Sun\" height=\"161\" src=\"../img/faculty-staff/sun.png\" style=\"width: 150px; height: auto; margin-right: 8px; float: left;\" width=\"124\"/>\\n       <h2>\\n        Yu Sun\\n       </h2>\\n       <p>\\n        <strong>\\n         Title\\n        </strong>\\n        : Associate Professor\\n        <br/>\\n        <strong>\\n         Office\\n        </strong>\\n        : 8-13\\n        <br/>\\n        <strong>\\n         Phone\\n        </strong>\\n        : (909) 869-3449\\n        <br/>\\n        <strong>\\n         Email\\n        </strong>\\n        :\\n        <a href=\"mailto:yusun@cpp.edu\">\\n         yusun@cpp.edu\\n        </a>\\n        <br/>\\n        <strong>\\n         Web\\n        </strong>\\n        :\\n        <a href=\"http://www.cpp.edu/faculty/yusun/\">\\n         cpp.edu/faculty/yusun/\\n        </a>\\n       </p>\\n      </div>\\n      <hr/>\\n      <div class=\"clearfix\">\\n       <img alt=\"Fang Daisy Tang\" height=\"205\" src=\"../img/faculty-staff/daisy.jpg\" style=\"width: 150px; height: auto; margin-right: 8px; float: left;\" width=\"141\"/>\\n       <h2>\\n        Daisy Tang\\n       </h2>\\n       <p>\\n        <strong>\\n         Title\\n        </strong>\\n        : Chair and Professor\\n        <br/>\\n        <strong>\\n         Office\\n        </strong>\\n        : 8-14A\\n        <br/>\\n        <strong>\\n         Phone\\n        </strong>\\n        : (909) 869-2157\\n        <br/>\\n        <strong>\\n         Email\\n        </strong>\\n        :\\n        <a href=\"mailto:ftang@cpp.edu\">\\n         ftang@cpp.edu\\n        </a>\\n        <br/>\\n        <strong>\\n         Web\\n        </strong>\\n        :\\n        <a href=\"http://www.cpp.edu/faculty/ftang/\">\\n         cpp.edu/faculty/ftang/\\n        </a>\\n       </p>\\n      </div>\\n      <hr/>\\n      <div class=\"clearfix\">\\n       <img alt=\"Gilbert S. Young\" height=\"160\" src=\"../img/ywang.jpg\" style=\"width: 150px; height: auto; margin-right: 8px; float: left;\" width=\"120\"/>\\n       <h2>\\n        Yunsheng Wang\\n       </h2>\\n       <p>\\n        <strong>\\n         Title\\n        </strong>\\n        : Assistant Professor\\n        <br/>\\n        <strong>\\n         Office\\n        </strong>\\n        : 8-47\\n        <br/>\\n        <strong>\\n         Phone\\n        </strong>\\n        : (909) 869-\\n        <br/>\\n        <strong>\\n         Email\\n        </strong>\\n        :\\n        <a href=\"mailto:yunshengwang@cpp.edu\">\\n         yunshengwang@cpp.edu\\n        </a>\\n        <br/>\\n        <strong>\\n         Web\\n        </strong>\\n        :\\n        <a href=\"https://www.cpp.edu/faculty/yunshengwang/\">\\n         cpp.edu/faculty/yunshengwang/\\n        </a>\\n       </p>\\n      </div>\\n      <hr/>\\n      <div class=\"clearfix\">\\n       <img alt=\"Mingyan Xiao\" height=\"160\" src=\"../img/mxiao.jpg\" style=\"width: 150px; height: auto; margin-right: 8px; float: left;\" width=\"120\"/>\\n       <h2>\\n        Mingyan Xiao\\n       </h2>\\n       <p>\\n        <strong>\\n         Title\\n        </strong>\\n        : Assistant Professor\\n        <br/>\\n        <strong>\\n         Office\\n        </strong>\\n        : 8-45\\n        <br/>\\n        <strong>\\n         Phone\\n        </strong>\\n        : (909) 869-\\n        <br/>\\n        <strong>\\n         Email\\n        </strong>\\n        :\\n        <a href=\"mailto:mxiao@cpp.edu\">\\n         mxiao@cpp.edu\\n        </a>\\n        <br/>\\n        <strong>\\n         Web\\n        </strong>\\n        :\\n        <a href=\"https://www.cpp.edu/faculty/mxiao/\">\\n         cpp.edu/faculty/mxiao/\\n        </a>\\n       </p>\\n      </div>\\n      <hr/>\\n      <div class=\"clearfix\">\\n       <img alt=\"Lan Yang\" height=\"149\" src=\"../img/faculty-staff/yanglan.jpg\" style=\"width: 150px; height: auto; margin-right: 8px; float: left;\" width=\"111\"/>\\n       <h2>\\n        Lan Yang\\n       </h2>\\n       <p>\\n        <strong>\\n         Title\\n        </strong>\\n        : Professor\\n        <br/>\\n        <strong>\\n         Office\\n        </strong>\\n        : 8-12\\n        <br/>\\n        <strong>\\n         Phone\\n        </strong>\\n        : (909) 869-4052\\n        <br/>\\n        <strong>\\n         Email\\n        </strong>\\n        :\\n        <a href=\"mailto:lyang@cpp.edu\">\\n         lyang@cpp.edu\\n        </a>\\n        <br/>\\n        <strong>\\n         Web\\n        </strong>\\n        :\\n        <a href=\"https://www.cpp.edu/faculty/lyang/\">\\n         cpp.edu/faculty/lyang/\\n        </a>\\n       </p>\\n      </div>\\n      <hr/>\\n      <div class=\"clearfix\">\\n       <img alt=\"Gilbert S. Young\" height=\"150\" src=\"../img/faculty-staff/young.jpg\" style=\"width: 150px; height: auto; margin-right: 8px; float: left;\" width=\"109\"/>\\n       <h2>\\n        Gilbert S. Young\\n       </h2>\\n       <p>\\n        <strong>\\n         Title\\n        </strong>\\n        : Professor\\n        <br/>\\n        <strong>\\n         Office\\n        </strong>\\n        : 8-14\\n        <br/>\\n        <strong>\\n         Phone\\n        </strong>\\n        : (909) 869-4413\\n        <br/>\\n        <strong>\\n         Email\\n        </strong>\\n        :\\n        <a href=\"mailto:gsyoung@cpp.edu\">\\n         gsyoung@cpp.edu\\n        </a>\\n        <br/>\\n        <strong>\\n         Web\\n        </strong>\\n        :\\n        <a href=\"http://www.cpp.edu/faculty/gsyoung/\">\\n         cpp.edu/faculty/gsyoung/\\n        </a>\\n       </p>\\n      </div>\\n      <hr/>\\n     </section>\\n    </div>\\n   </div>\\n  </main>\\n  <div lang=\"en\">\\n   <footer class=\"container-fluid\" id=\"main-footer\">\\n    <div class=\"row\">\\n     <div class=\"col-lg col-md col-sm-6 address text-left\">\\n      <img alt=\"cal poly pomona\" class=\"footer-logo\" src=\"https://www.cpp.edu/common/2018/assets/img/cpp-white.png\"/>\\n      <p>\\n       3801 West Temple Avenue, Pomona, CA 91768\\n      </p>\\n      <div class=\"copyright\">\\n       <p class=\"copyright-text\">\\n        ©2024 California State Polytechnic University, Pomona\\n       </p>\\n       <p class=\"copyright-text\">\\n        All Rights Reserved\\n       </p>\\n      </div>\\n     </div>\\n     <div class=\"col-lg col-md-7 col-sm-6 footer-links\">\\n      <a href=\"https://www.cpp.edu/aboutcpp/index.shtml\" title=\"Cpp About\">\\n       About Cal Poly Pomona\\n      </a>\\n      <a aria-label=\"Cpp Feedback\" href=\"https://www.cpp.edu/website-feedback.shtml\" title=\"Cpp Feedback\">\\n       Feedback\\n      </a>\\n      <a aria-label=\"Cpp Privacy\" href=\"https://www.cpp.edu/privacy.shtml\" title=\"footer - Privacy\">\\n       Privacy\\n      </a>\\n      <a href=\"https://www.cpp.edu/accessibility.shtml\">\\n       Accessibility\\n      </a>\\n      <a href=\"https://www.cpp.edu/file-viewers.shtml\">\\n       Document Readers\\n      </a>\\n     </div>\\n    </div>\\n    <div class=\"row\" id=\"csu-footer\">\\n     <a href=\"https://www2.calstate.edu\" title=\"California state university\">\\n      <img alt=\"california state university\" src=\"https://www.cpp.edu/common/2018/assets/img/csu-wordmark-horizontal.png\"/>\\n     </a>\\n    </div>\\n    <script crossorigin=\"anonymous\" integrity=\"sha256-hwg4gsxgFZhOsEEamdOYGBf13FyQuiTwlAQgxVSNgt4=\" src=\"https://code.jquery.com/jquery-3.2.1.min.js\">\\n    </script>\\n    <script crossorigin=\"anonymous\" integrity=\"sha384-ApNbgh9B+Y1QKtv3Rn7W3mgPxhU9K/ScQsAP7hUibX39j7fakFPskvXusvfa0b4Q\" src=\"https://cdnjs.cloudflare.com/ajax/libs/popper.js/1.12.9/umd/popper.min.js\">\\n    </script>\\n    <script crossorigin=\"anonymous\" integrity=\"sha384-JZR6Spejh4U02d8jOt6vLEHfe/JQGiRRSQQxSfFWpi1MquVdAyjUar5+76PVCmYl\" src=\"https://maxcdn.bootstrapcdn.com/bootstrap/4.0.0/js/bootstrap.min.js\">\\n    </script>\\n    <script src=\"https://www.cpp.edu/common/2018/assets/js/cpp.js\">\\n    </script>\\n    <script src=\"https://www.cpp.edu/common/2018/assets/js/tabs.js\">\\n    </script>\\n   </footer>\\n  </div>\\n </body>\\n</html>\\n'"
      ]
     },
     "execution_count": 3,
     "metadata": {},
     "output_type": "execute_result"
    }
   ],
   "source": [
    "with open('Permanent_Faculty.html') as f:\n",
    "    doc = BeautifulSoup(f, 'html.parser')\n",
    "doc.prettify()"
   ]
  },
  {
   "cell_type": "code",
   "execution_count": 4,
   "id": "1f62ebf4e15f2c41",
   "metadata": {
    "collapsed": false
   },
   "outputs": [
    {
     "name": "stderr",
     "output_type": "stream",
     "text": [
      "/tmp/ipykernel_11445/2593747380.py:1: DeprecationWarning: The 'text' argument to find()-type methods is deprecated. Use 'string' instead.\n",
      "  doc.body.find('h1', text='Permanent Faculty') is None\n"
     ]
    },
    {
     "data": {
      "text/plain": [
       "False"
      ]
     },
     "execution_count": 4,
     "metadata": {},
     "output_type": "execute_result"
    }
   ],
   "source": [
    "doc.body.find('h1', text='Permanent Faculty') is None"
   ]
  },
  {
   "cell_type": "code",
   "execution_count": 5,
   "id": "50a8890a",
   "metadata": {},
   "outputs": [],
   "source": [
    "from urllib.parse import urlparse"
   ]
  },
  {
   "cell_type": "code",
   "execution_count": 6,
   "id": "ed3f11d2",
   "metadata": {},
   "outputs": [
    {
     "data": {
      "text/plain": [
       "[ParseResult(scheme='https', netloc='www.cpp.edu', path='/privacy.shtml', params='', query='', fragment=''),\n",
       " ParseResult(scheme='https', netloc='www.cpp.edu', path='/index.shtml', params='', query='', fragment=''),\n",
       " ParseResult(scheme='', netloc='', path='/~sci/index.shtml', params='', query='', fragment=''),\n",
       " ParseResult(scheme='', netloc='', path='/sci/computer-science/index.shtml', params='', query='', fragment=''),\n",
       " ParseResult(scheme='', netloc='', path='/sci/computer-science/program-evaluation/index.shtml', params='', query='', fragment=''),\n",
       " ParseResult(scheme='', netloc='', path='/sci/computer-science/program-evaluation/accreditation-and-assessment.shtml', params='', query='', fragment=''),\n",
       " ParseResult(scheme='', netloc='', path='/sci/computer-science/program-evaluation/accreditation-reports.shtml', params='', query='', fragment=''),\n",
       " ParseResult(scheme='', netloc='', path='/sci/computer-science/undergraduate-program/index.shtml', params='', query='', fragment=''),\n",
       " ParseResult(scheme='', netloc='', path='/sci/computer-science/undergraduate-program/course-descriptions.shtml', params='', query='', fragment=''),\n",
       " ParseResult(scheme='', netloc='', path='/sci/computer-science/undergraduate-program/student-resources.shtml', params='', query='', fragment=''),\n",
       " ParseResult(scheme='', netloc='', path='/sci/computer-science/undergraduate-program/employment-opportunities.shtml', params='', query='', fragment=''),\n",
       " ParseResult(scheme='', netloc='', path='/sci/computer-science/undergraduate-program/research-opportunities.shtml', params='', query='', fragment=''),\n",
       " ParseResult(scheme='', netloc='', path='/sci/computer-science/undergraduate-program/scholarship-opportunities.shtml', params='', query='', fragment=''),\n",
       " ParseResult(scheme='', netloc='', path='/sci/computer-science/undergraduate-program/minor-in-cs.shtml', params='', query='', fragment=''),\n",
       " ParseResult(scheme='', netloc='', path='/sci/computer-science/undergraduate-program/seniorproject.shtml', params='', query='', fragment=''),\n",
       " ParseResult(scheme='', netloc='', path='/sci/computer-science/undergraduate-program/internship.shtml', params='', query='', fragment=''),\n",
       " ParseResult(scheme='', netloc='', path='/sci/computer-science/undergraduate-program/forms.shtml', params='', query='', fragment=''),\n",
       " ParseResult(scheme='', netloc='', path='/sci/computer-science/prospective-graduate-students/index.shtml', params='', query='', fragment=''),\n",
       " ParseResult(scheme='', netloc='', path='/sci/computer-science/prospective-graduate-students/program-information.shtml', params='', query='', fragment=''),\n",
       " ParseResult(scheme='', netloc='', path='/sci/computer-science/prospective-graduate-students/admission-requirements.shtml', params='', query='', fragment=''),\n",
       " ParseResult(scheme='', netloc='', path='/sci/computer-science/prospective-graduate-students/application-procedures.shtml', params='', query='', fragment=''),\n",
       " ParseResult(scheme='', netloc='', path='/sci/computer-science/prospective-graduate-students/frequently-asked-questions.shtml', params='', query='', fragment=''),\n",
       " ParseResult(scheme='', netloc='', path='/sci/computer-science/current-graduate-students/index.shtml', params='', query='', fragment=''),\n",
       " ParseResult(scheme='', netloc='', path='/sci/computer-science/current-graduate-students/news-and-announcements.shtml', params='', query='', fragment=''),\n",
       " ParseResult(scheme='', netloc='', path='/sci/computer-science/current-graduate-students/course-descriptions.shtml', params='', query='', fragment=''),\n",
       " ParseResult(scheme='', netloc='', path='/sci/computer-science/current-graduate-students/planned-future-course-offerings.shtml', params='', query='', fragment=''),\n",
       " ParseResult(scheme='https', netloc='www.cpp.edu', path='/sci/computer-science/faculty-and-staff/faculty-research-int.shtml', params='', query='', fragment=''),\n",
       " ParseResult(scheme='', netloc='', path='/sci/computer-science/current-graduate-students/past-masters-theses.shtml', params='', query='', fragment=''),\n",
       " ParseResult(scheme='', netloc='', path='/sci/computer-science/current-graduate-students/program-assessment.shtml', params='', query='', fragment=''),\n",
       " ParseResult(scheme='', netloc='', path='/sci/computer-science/current-graduate-students/graduate-resources.shtml', params='', query='', fragment=''),\n",
       " ParseResult(scheme='', netloc='', path='/sci/computer-science/faculty-and-staff/index.shtml', params='', query='', fragment=''),\n",
       " ParseResult(scheme='', netloc='', path='/sci/computer-science/faculty-and-staff/permanent-faculty.shtml', params='', query='', fragment=''),\n",
       " ParseResult(scheme='', netloc='', path='/sci/computer-science/faculty-and-staff/lecturers.shtml', params='', query='', fragment=''),\n",
       " ParseResult(scheme='', netloc='', path='/sci/computer-science/faculty-and-staff/emeritus.shtml', params='', query='', fragment=''),\n",
       " ParseResult(scheme='', netloc='', path='/sci/computer-science/faculty-and-staff/staff.shtml', params='', query='', fragment=''),\n",
       " ParseResult(scheme='', netloc='', path='/sci/computer-science/faculty-and-staff/faculty-research-int.shtml', params='', query='', fragment=''),\n",
       " ParseResult(scheme='', netloc='', path='/sci/computer-science/faculty-and-staff/awards.shtml', params='', query='', fragment=''),\n",
       " ParseResult(scheme='', netloc='', path='/sci/computer-science/student-labs/index.shtml', params='', query='', fragment=''),\n",
       " ParseResult(scheme='', netloc='', path='/sci/computer-science/student-labs/use-and-hours.shtml', params='', query='', fragment=''),\n",
       " ParseResult(scheme='', netloc='', path='/sci/computer-science/student-labs/instructional-labs.shtml', params='', query='', fragment=''),\n",
       " ParseResult(scheme='', netloc='', path='/sci/computer-science/student-labs/research-labs.shtml', params='', query='', fragment=''),\n",
       " ParseResult(scheme='', netloc='', path='/sci/computer-science/student-clubs/index.shtml', params='', query='', fragment=''),\n",
       " ParseResult(scheme='', netloc='', path='/sci/computer-science/alumni.shtml', params='', query='', fragment=''),\n",
       " ParseResult(scheme='', netloc='', path='/sci/computer-science/cs-for-all.shtml', params='', query='', fragment=''),\n",
       " ParseResult(scheme='', netloc='', path='/sci/computer-science/collaboration-and-outreach/index.shtml', params='', query='', fragment=''),\n",
       " ParseResult(scheme='', netloc='', path='/sci/computer-science/support-the-department.shtml', params='', query='', fragment=''),\n",
       " ParseResult(scheme='', netloc='', path='/sci/computer-science/contact-information.shtml', params='', query='', fragment=''),\n",
       " ParseResult(scheme='https', netloc='www.cpp.edu', path='/faculty/aamamra/index.shtml', params='', query='', fragment=''),\n",
       " ParseResult(scheme='https', netloc='www.cpp.edu', path='/aboutcpp/index.shtml', params='', query='', fragment=''),\n",
       " ParseResult(scheme='https', netloc='www.cpp.edu', path='/website-feedback.shtml', params='', query='', fragment=''),\n",
       " ParseResult(scheme='https', netloc='www.cpp.edu', path='/privacy.shtml', params='', query='', fragment=''),\n",
       " ParseResult(scheme='https', netloc='www.cpp.edu', path='/accessibility.shtml', params='', query='', fragment=''),\n",
       " ParseResult(scheme='https', netloc='www.cpp.edu', path='/file-viewers.shtml', params='', query='', fragment='')]"
      ]
     },
     "execution_count": 6,
     "metadata": {},
     "output_type": "execute_result"
    }
   ],
   "source": [
    "[urlparse(tag['href']) for tag in doc.body.find_all('a', href=re.compile('\\.s?html$'))]"
   ]
  },
  {
   "cell_type": "code",
   "execution_count": 38,
   "id": "02a8d9c9",
   "metadata": {},
   "outputs": [],
   "source": [
    "from urllib.parse import urlsplit, urlunsplit\n",
    "\n",
    "default_scheme = 'https'\n",
    "default_netloc = 'www.cpp.edu'\n",
    "\n",
    "def find_urls(doc: BeautifulSoup) -> set:\n",
    "    urls = set()\n",
    "    # find the urls in page\n",
    "    for tag in doc.body.find_all('a', href=re.compile('\\.s?html$')):\n",
    "        href = tag['href']\n",
    "        # parse the url, replace scheme and netloc if missing\n",
    "        parsed = urlsplit(href)\n",
    "        scheme = parsed.scheme\n",
    "        netloc = parsed.netloc\n",
    "        if scheme == '':\n",
    "            scheme = default_scheme\n",
    "        if netloc == '':\n",
    "            netloc = default_netloc\n",
    "        # add to set\n",
    "        urls.add(urlunsplit((scheme, netloc, parsed.path, parsed.query, parsed.fragment)))\n",
    "\n",
    "    return urls"
   ]
  },
  {
   "cell_type": "code",
   "execution_count": 7,
   "id": "bb969ad4",
   "metadata": {},
   "outputs": [
    {
     "ename": "NameError",
     "evalue": "name 'find_urls' is not defined",
     "output_type": "error",
     "traceback": [
      "\u001b[0;31m---------------------------------------------------------------------------\u001b[0m",
      "\u001b[0;31mNameError\u001b[0m                                 Traceback (most recent call last)",
      "Cell \u001b[0;32mIn[7], line 1\u001b[0m\n\u001b[0;32m----> 1\u001b[0m \u001b[43mfind_urls\u001b[49m(doc)\n",
      "\u001b[0;31mNameError\u001b[0m: name 'find_urls' is not defined"
     ]
    }
   ],
   "source": [
    "find_urls(doc)"
   ]
  },
  {
   "cell_type": "code",
   "execution_count": 31,
   "id": "7ea0cce3",
   "metadata": {},
   "outputs": [
    {
     "data": {
      "text/plain": [
       "True"
      ]
     },
     "execution_count": 31,
     "metadata": {},
     "output_type": "execute_result"
    }
   ],
   "source": [
    "urlparse('/sci/computer-science/undergraduate-program/employment-opportunities.shtml').netloc == ''"
   ]
  },
  {
   "cell_type": "code",
   "execution_count": 18,
   "id": "9510066c",
   "metadata": {},
   "outputs": [
    {
     "name": "stdout",
     "output_type": "stream",
     "text": [
      "<div class=\"clearfix\"><img alt=\"Abdelfattah Amamra\" height=\"161\" src=\"../img/faculty-staff/abdel.jpg\" style=\"width: 150px; height: auto; margin-right: 8px; float: left;\" width=\"120\"/>\n",
      "<h2>Abdelfattah Amamra</h2>\n",
      "<p><strong>Title:</strong> Associate Professor <br/> <strong>Office:</strong> 8-11 <br/> <strong>Phone:</strong> (909) 869-3447 <br/> <strong>Email: </strong> <a href=\"mailto:aamamra@cpp.edu\">aamamra@cpp.edu</a> <br/> <strong>Web:</strong> <a href=\"https://www.cpp.edu/faculty/aamamra/index.shtml\">cpp.edu/faculty/aamamra/</a></p>\n",
      "</div>\n",
      "{'name': 'Abdelfattah Amamra', 'title': 'Associate Professor', 'office': '8-11', 'phone': '(909) 869-3447', 'email': ''}\n",
      "<div class=\"clearfix\"><img alt=\"Tingting Chen\" height=\"160\" src=\"../img/faculty-staff/chen.jpg\" style=\"width: 150px; height: auto; margin-right: 8px; float: left;\" width=\"120\"/>\n",
      "<h2>Tingting Chen</h2>\n",
      "<p><strong>Title:</strong> Professor <br/> <strong>Office:</strong> 8-09 <br/> <strong>Phone:</strong> (909) 869-4842 <br/> <strong>Email:</strong>  <a href=\"mailto:tingtingchen@cpp.edu\">tingtingchen@cpp.edu</a>  <br/> <strong>Web:</strong> <a href=\"http://www.cpp.edu/faculty/tingtingchen/\">cpp.edu/faculty/tingtingchen/</a></p>\n",
      "</div>\n",
      "{'name': 'Tingting Chen', 'title': 'Professor', 'office': '8-09', 'phone': '(909) 869-4842', 'email': ''}\n",
      "<div class=\"clearfix\"><img alt=\"Markus Eger\" height=\"160\" src=\"../img/faculty-staff/markuseger.jpg\" style=\"width: 150px; height: auto; margin-right: 8px; float: left;\" width=\"120\"/>\n",
      "<h2>Markus Eger</h2>\n",
      "<p><strong>Title:</strong> Assistant Professor <br/> <strong>Office:</strong> 8-43 <br/> <strong>Phone:</strong> (909) 869- <br/> <strong>Email:</strong>  <a href=\"mailto:meger@cpp.edu\">meger@cpp.edu</a>  <br/> <strong>Web: </strong> <a href=\"http://www.cpp.edu/faculty/meger\">cpp.edu/faculty/meger/</a></p>\n",
      "</div>\n",
      "{'name': 'Markus Eger', 'title': 'Assistant Professor', 'office': '8-43', 'phone': '(909) 869-', 'email': ''}\n",
      "<div class=\"clearfix\"><img alt=\"Mohammad Husain\" height=\"161\" src=\"../img/faculty-staff/husain.png\" style=\"width: 150px; height: auto; margin-right: 8px; float: left;\" width=\"124\"/>\n",
      "<h2>Mohammad Husain</h2>\n",
      "<p><strong>Title:</strong> Professor &amp; Graduate Coordinator <br/> <strong>Office:</strong> 8-41 <br/> <strong>Phone:</strong> (909) 869-2022 <br/> <strong>Email:</strong>  <a href=\"mailto:mihusain@cpp.edu\">mihusain@cpp.edu</a>  <br/> <strong>Web:</strong> <a href=\"http://www.cpp.edu/faculty/mihusain/\">cpp.edu/faculty/mihusain/</a></p>\n",
      "</div>\n",
      "{'name': 'Mohammad Husain', 'title': 'Professor & Graduate Coordinator', 'office': '8-41', 'phone': '(909) 869-2022', 'email': ''}\n",
      "<div class=\"clearfix\"><img alt=\"Hao Ji\" height=\"160\" src=\"../img/faculty-staff/haoji.jpg\" style=\"width: 150px; height: auto; margin-right: 8px; float: left;\" width=\"120\"/>\n",
      "<h2>  Hao Ji</h2>\n",
      "<p><strong>   Title:</strong> Associate Professor <br/> <strong>   Office:</strong> 8-42 <br/> <strong>   Phone:</strong> (909) 869-5521 <br/> <strong>   Email:</strong>  <a href=\"mailto:hji@cpp.edu\">hji@cpp.edu</a>  <br/> <strong>   Web:</strong>  <a href=\"http://www.cpp.edu/faculty/hji/\">cpp.edu/faculty/hji/</a></p>\n",
      "</div>\n",
      "{'name': '\\xa0 Hao Ji', 'title': 'Associate Professor', 'office': '8-42', 'phone': '(909) 869-5521', 'email': ''}\n",
      "<div class=\"clearfix\"><hr/><img alt=\"John Korah\" height=\"162\" src=\"../img/faculty-staff/johnkorah.jpg\" style=\"width: 150px; height: auto; margin-right: 8px; float: left;\" width=\"120\"/>\n",
      "<h2>John Korah</h2>\n",
      "<p><strong>Title:</strong> Assistant Professor <br/> <strong>Office:</strong> 8-15 <br/> <strong>Phone</strong>: (909) 869-3441 <br/> <strong>Email</strong>:  <a href=\"mailto:jkorah@cpp.edu\">jkorah@cpp.edu</a>  <br/> <strong>Web</strong>: <a href=\"http://www.cpp.edu/faculty/jkorah/\">cpp.edu/faculty/jkorah/</a></p>\n",
      "</div>\n",
      "{'name': 'John Korah', 'title': 'Assistant Professor', 'office': '8-15', 'phone': ': (909) 869-3441', 'email': ':'}\n",
      "<div class=\"clearfix\"><img alt=\"Ericsson Marin\" height=\"157\" src=\"../img/faculty-staff/ericsson.jpg\" style=\"width: 150px; height: auto; margin-right: 8px; float: left;\" width=\"121\"/>\n",
      "<h2>Ericsson Santana Marin</h2>\n",
      "<p><strong>Title:</strong> Assistant Professor <br/> <strong>Office:</strong> 8-39 <br/> <strong>Phone:</strong> (909) 869-3909 <br/> <strong>Email: </strong>  <a href=\"mailto:santanamarin@cpp.edu\">santanamarin@cpp.edu</a> <br/> <strong>Web: </strong> <a href=\"https://www.cpp.edu/faculty/santanamarin\">cpp.edu/faculty/santanamarin</a></p>\n",
      "</div>\n",
      "{'name': 'Ericsson Santana Marin', 'title': 'Assistant Professor', 'office': '8-39', 'phone': '(909) 869-3909', 'email': ''}\n",
      "<div class=\"clearfix\"><img alt=\"Amar Raheja\" height=\"162\" src=\"../img/faculty-staff/raheja.png\" style=\"width: 150px; height: auto; margin-right: 8px; float: left;\" width=\"120\"/>\n",
      "<h2>Amar Raheja</h2>\n",
      "<p><strong>Title:</strong> Associate Chair and Professor <br/> <strong>Office:</strong> 8-10 <br/> <strong>Phone:</strong> (909) 869-4412 <br/> <strong>Email:</strong>  <a href=\"mailto:raheja@cpp.edu\">raheja@cpp.edu</a>  <br/> <strong>Web:</strong> <a href=\"http://www.cpp.edu/faculty/raheja/\">cpp.edu/faculty/raheja/</a></p>\n",
      "</div>\n",
      "{'name': 'Amar Raheja', 'title': 'Associate Chair and Professor', 'office': '8-10', 'phone': '(909) 869-4412', 'email': ''}\n",
      "<div class=\"clearfix\"><img alt=\"Salam Salloum\" height=\"150\" src=\"../img/faculty-staff/salloum.jpg\" style=\"width: 150px; height: auto; margin-right: 8px; float: left;\" width=\"106\"/>\n",
      "<h2>Salam Salloum</h2>\n",
      "<p><strong>Title</strong>: Professor <br/> <strong>Office</strong>: 8-8 <br/> <strong>Phone</strong>: (909) 869-5317 <br/> <strong>Email</strong>:  <a href=\"mailto:ssalloum@cpp.edu\">ssalloum@cpp.edu</a>  <br/> <strong>Web</strong>: <a href=\"http://www.cpp.edu/faculty/ssalloum/\">cpp.edu/faculty/ssalloum/</a></p>\n",
      "</div>\n",
      "{'name': 'Salam Salloum', 'title': ': Professor', 'office': ': 8-8', 'phone': ': (909) 869-5317', 'email': ':'}\n",
      "<div class=\"clearfix\"><img alt=\"Ben Steichen\" height=\"160\" src=\"../img/faculty-staff/ben.jpg\" style=\"width: 150px; height: auto; margin-right: 8px; float: left;\" width=\"120\"/>\n",
      "<h2>Ben Steichen</h2>\n",
      "<p><strong>Title:</strong> Associate Professor <br/> <strong>Office:</strong> 8-44  <br/> <strong>Phone:</strong> (909) 869-3437 <br/> <strong>Email: </strong> <a href=\"mailto:bsteichen@cpp.edu\">bsteichen@cpp.edu</a>  <br/> <strong>Web: </strong> <a href=\"http://www.cpp.edu/faculty/bsteichen/\">cpp.edu/faculty/bsteichen/</a></p>\n",
      "</div>\n",
      "{'name': 'Ben Steichen', 'title': 'Associate Professor', 'office': '8-44', 'phone': '(909) 869-3437', 'email': ''}\n",
      "<div class=\"clearfix\"><img alt=\"Assistant Professor Yu Sun\" height=\"161\" src=\"../img/faculty-staff/sun.png\" style=\"width: 150px; height: auto; margin-right: 8px; float: left;\" width=\"124\"/>\n",
      "<h2>Yu Sun</h2>\n",
      "<p><strong>Title</strong>: Associate Professor <br/> <strong>Office</strong>: 8-13 <br/> <strong>Phone</strong>: (909) 869-3449 <br/> <strong>Email</strong>:  <a href=\"mailto:yusun@cpp.edu\">yusun@cpp.edu</a>  <br/> <strong>Web</strong>: <a href=\"http://www.cpp.edu/faculty/yusun/\">cpp.edu/faculty/yusun/</a></p>\n",
      "</div>\n",
      "{'name': 'Yu Sun', 'title': ': Associate Professor', 'office': ': 8-13', 'phone': ': (909) 869-3449', 'email': ':'}\n",
      "<div class=\"clearfix\"><img alt=\"Fang Daisy Tang\" height=\"205\" src=\"../img/faculty-staff/daisy.jpg\" style=\"width: 150px; height: auto; margin-right: 8px; float: left;\" width=\"141\"/>\n",
      "<h2>Daisy Tang</h2>\n",
      "<p><strong>Title</strong>: Chair and Professor <br/> <strong>Office</strong>: 8-14A <br/> <strong>Phone</strong>: (909) 869-2157 <br/> <strong>Email</strong>:  <a href=\"mailto:ftang@cpp.edu\">ftang@cpp.edu</a>  <br/> <strong>Web</strong>: <a href=\"http://www.cpp.edu/faculty/ftang/\">cpp.edu/faculty/ftang/</a></p>\n",
      "</div>\n",
      "{'name': 'Daisy Tang', 'title': ': Chair and Professor', 'office': ': 8-14A', 'phone': ': (909) 869-2157', 'email': ':'}\n",
      "<div class=\"clearfix\"><img alt=\"Gilbert S. Young\" height=\"160\" src=\"../img/ywang.jpg\" style=\"width: 150px; height: auto; margin-right: 8px; float: left;\" width=\"120\"/>\n",
      "<h2>Yunsheng Wang</h2>\n",
      "<p><strong>Title</strong>: Assistant Professor <br/> <strong>Office</strong>: 8-47 <br/> <strong>Phone</strong>: (909) 869- <br/> <strong>Email</strong>: <a href=\"mailto:yunshengwang@cpp.edu\">yunshengwang@cpp.edu</a> <br/> <strong>Web</strong>: <a href=\"https://www.cpp.edu/faculty/yunshengwang/\">cpp.edu/faculty/yunshengwang/</a></p>\n",
      "</div>\n",
      "{'name': 'Yunsheng Wang', 'title': ': Assistant Professor', 'office': ': 8-47', 'phone': ': (909) 869-', 'email': ':'}\n",
      "<div class=\"clearfix\"><img alt=\"Mingyan Xiao\" height=\"160\" src=\"../img/mxiao.jpg\" style=\"width: 150px; height: auto; margin-right: 8px; float: left;\" width=\"120\"/>\n",
      "<h2>Mingyan Xiao</h2>\n",
      "<p><strong>Title</strong>: Assistant Professor <br/> <strong>Office</strong>: 8-45 <br/> <strong>Phone</strong>: (909) 869- <br/> <strong>Email</strong>:  <a href=\"mailto:mxiao@cpp.edu\">mxiao@cpp.edu</a> <br/> <strong>Web</strong>: <a href=\"https://www.cpp.edu/faculty/mxiao/\">cpp.edu/faculty/mxiao/</a></p>\n",
      "</div>\n",
      "{'name': 'Mingyan Xiao', 'title': ': Assistant Professor', 'office': ': 8-45', 'phone': ': (909) 869-', 'email': ':'}\n",
      "<div class=\"clearfix\"><img alt=\"Lan Yang\" height=\"149\" src=\"../img/faculty-staff/yanglan.jpg\" style=\"width: 150px; height: auto; margin-right: 8px; float: left;\" width=\"111\"/>\n",
      "<h2>Lan Yang</h2>\n",
      "<p><strong>Title</strong>: Professor <br/> <strong>Office</strong>: 8-12 <br/> <strong>Phone</strong>: (909) 869-4052 <br/> <strong>Email</strong>:  <a href=\"mailto:lyang@cpp.edu\">lyang@cpp.edu</a>  <br/> <strong>Web</strong>: <a href=\"https://www.cpp.edu/faculty/lyang/\">cpp.edu/faculty/lyang/</a></p>\n",
      "</div>\n",
      "{'name': 'Lan Yang', 'title': ': Professor', 'office': ': 8-12', 'phone': ': (909) 869-4052', 'email': ':'}\n",
      "<div class=\"clearfix\"><img alt=\"Gilbert S. Young\" height=\"150\" src=\"../img/faculty-staff/young.jpg\" style=\"width: 150px; height: auto; margin-right: 8px; float: left;\" width=\"109\"/>\n",
      "<h2>Gilbert S. Young</h2>\n",
      "<p><strong>Title</strong>: Professor <br/> <strong>Office</strong>: 8-14 <br/> <strong>Phone</strong>: (909) 869-4413 <br/> <strong>Email</strong>:  <a href=\"mailto:gsyoung@cpp.edu\">gsyoung@cpp.edu</a>  <br/> <strong>Web</strong>: <a href=\"http://www.cpp.edu/faculty/gsyoung/\">cpp.edu/faculty/gsyoung/</a></p>\n",
      "</div>\n",
      "{'name': 'Gilbert S. Young', 'title': ': Professor', 'office': ': 8-14', 'phone': ': (909) 869-4413', 'email': ':'}\n"
     ]
    }
   ],
   "source": [
    "sec = doc.body.find('section', class_='text-images')\n",
    "for subsec in sec.find_all('div'):\n",
    "    if subsec.h2 is None:\n",
    "        continue\n",
    "    # print(subsec)\n",
    "    prof = {}\n",
    "    prof['name'] = subsec.h2.get_text()\n",
    "    prof['title'] = subsec.find('strong', string=re.compile('Title')).next_sibling.strip()\n",
    "    prof['office'] = subsec.find('strong', string=re.compile('Office')).next_sibling.strip()\n",
    "    prof['phone'] = subsec.find('strong', string=re.compile('Phone')).next_sibling.strip()\n",
    "    prof['email'] = subsec.find('strong', string=re.compile('Email')).next_sibling.strip()\n",
    "    print(prof)\n"
   ]
  },
  {
   "cell_type": "code",
   "execution_count": null,
   "id": "94c339c0",
   "metadata": {},
   "outputs": [],
   "source": []
  }
 ],
 "metadata": {
  "kernelspec": {
   "display_name": "Python 3 (ipykernel)",
   "language": "python",
   "name": "python3"
  },
  "language_info": {
   "codemirror_mode": {
    "name": "ipython",
    "version": 3
   },
   "file_extension": ".py",
   "mimetype": "text/x-python",
   "name": "python",
   "nbconvert_exporter": "python",
   "pygments_lexer": "ipython3",
   "version": "3.11.8"
  }
 },
 "nbformat": 4,
 "nbformat_minor": 5
}
